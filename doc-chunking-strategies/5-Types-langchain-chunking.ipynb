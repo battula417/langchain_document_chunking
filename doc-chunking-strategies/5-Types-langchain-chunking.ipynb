from langchain.text_splitter import CharacterTextSplitter


from langchain_community.document_loaders import TextLoader

loader=TextLoader('speech.txt')
docs=loader.load()
docs



splitter = CharacterTextSplitter(separator="\n\n", chunk_size=1000, chunk_overlap=100)
chunks = splitter.split_text(large_text)